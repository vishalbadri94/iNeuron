{
 "cells": [
  {
   "cell_type": "code",
   "execution_count": 1,
   "id": "0ee794fd",
   "metadata": {},
   "outputs": [],
   "source": [
    "import numpy as np"
   ]
  },
  {
   "cell_type": "code",
   "execution_count": 14,
   "id": "dfac0a10",
   "metadata": {},
   "outputs": [],
   "source": [
    "#have start as temp variable which will get incremented by 1 in each iteration\n",
    "def movingavg(testarray,window):\n",
    "    start = 0\n",
    "    temparr = list()\n",
    "    for i in range(0 , len(testarray)-1):\n",
    "        #to have a temp sum value to calculate sum in every window\n",
    "        sum = 0\n",
    "        #if last 2 items then end loop\n",
    "        if(len(testarray)-i >= window):\n",
    "            for j in range(start , start + window):\n",
    "                #print(\"testarray  j : \", testarray[j])\n",
    "                sum=sum+testarray[j]\n",
    "            avg = sum/window\n",
    "            print(\"average round \" , i , \" is : \" , avg)\n",
    "            start = start+1\n",
    "        else:\n",
    "            print(\"end loop\")\n",
    "\n",
    "        "
   ]
  },
  {
   "cell_type": "code",
   "execution_count": 15,
   "id": "423632cb",
   "metadata": {},
   "outputs": [
    {
     "name": "stdout",
     "output_type": "stream",
     "text": [
      "average round  0  is :  5.0\n",
      "average round  1  is :  4.666666666666667\n",
      "average round  2  is :  5.666666666666667\n",
      "average round  3  is :  6.666666666666667\n",
      "average round  4  is :  9.666666666666666\n",
      "average round  5  is :  28.666666666666668\n",
      "average round  6  is :  49.333333333333336\n",
      "average round  7  is :  72.66666666666667\n",
      "average round  8  is :  84.0\n",
      "average round  9  is :  93.33333333333333\n",
      "average round  10  is :  116.33333333333333\n",
      "end loop\n",
      "None\n"
     ]
    }
   ],
   "source": [
    "testarray = [3, 5, 7, 2, 8, 10, 11, 65, 72, 81, 99, 100, 150]\n",
    "window = 3\n",
    "print(movingavg(testarray,window))"
   ]
  }
 ],
 "metadata": {
  "kernelspec": {
   "display_name": "Python 3",
   "language": "python",
   "name": "python3"
  },
  "language_info": {
   "codemirror_mode": {
    "name": "ipython",
    "version": 3
   },
   "file_extension": ".py",
   "mimetype": "text/x-python",
   "name": "python",
   "nbconvert_exporter": "python",
   "pygments_lexer": "ipython3",
   "version": "3.8.8"
  }
 },
 "nbformat": 4,
 "nbformat_minor": 5
}
