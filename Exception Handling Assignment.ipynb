{
 "cells": [
  {
   "cell_type": "code",
   "execution_count": 32,
   "id": "b6266854",
   "metadata": {},
   "outputs": [],
   "source": [
    "#question 1\n",
    "def testexception():\n",
    "    numerator = 5\n",
    "    denominator = 0\n",
    "\n",
    "    try:\n",
    "        div = numerator / denominator\n",
    "        print(div)\n",
    "        return div\n",
    "    except ZeroDivisionError: #choose 0 division error to take 1st\n",
    "        return \"zero error\"\n",
    "    #except(ZeroDivisionError ,Exception ) if we want to have in one single bracket\n",
    "    except Exception as e: #if there are other inputs then it can be under general except condition\n",
    "        print(\"Exception is based on : \" , e)\n",
    "        return e\n",
    "        "
   ]
  },
  {
   "cell_type": "code",
   "execution_count": 33,
   "id": "48ae9a65",
   "metadata": {},
   "outputs": [
    {
     "data": {
      "text/plain": [
       "'zero error'"
      ]
     },
     "execution_count": 33,
     "metadata": {},
     "output_type": "execute_result"
    }
   ],
   "source": [
    "testexception()"
   ]
  },
  {
   "cell_type": "code",
   "execution_count": null,
   "id": "82909dba",
   "metadata": {},
   "outputs": [],
   "source": []
  },
  {
   "cell_type": "code",
   "execution_count": 34,
   "id": "5152e687",
   "metadata": {},
   "outputs": [
    {
     "name": "stdout",
     "output_type": "stream",
     "text": [
      "Americans   play   Basketball\n",
      "Americans   play   Cricket\n",
      "Americans   watch   Basketball\n",
      "Americans   watch   Cricket\n",
      "Indians   play   Basketball\n",
      "Indians   play   Cricket\n",
      "Indians   watch   Basketball\n",
      "Indians   watch   Cricket\n"
     ]
    }
   ],
   "source": [
    "subject = [\"Americans\" , \"Indians\"]\n",
    "verbs = [\"play\" , \"watch\"]\n",
    "objects = ['Basketball' , 'Cricket']\n",
    "\n",
    "for i in subject :\n",
    "    for j in verbs:\n",
    "        for k in objects:\n",
    "            print(i ,\" \",j , \" \" , k)"
   ]
  }
 ],
 "metadata": {
  "kernelspec": {
   "display_name": "Python 3",
   "language": "python",
   "name": "python3"
  },
  "language_info": {
   "codemirror_mode": {
    "name": "ipython",
    "version": 3
   },
   "file_extension": ".py",
   "mimetype": "text/x-python",
   "name": "python",
   "nbconvert_exporter": "python",
   "pygments_lexer": "ipython3",
   "version": "3.8.8"
  }
 },
 "nbformat": 4,
 "nbformat_minor": 5
}
