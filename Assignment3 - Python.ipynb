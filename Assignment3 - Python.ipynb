{
 "cells": [
  {
   "cell_type": "code",
   "execution_count": 60,
   "metadata": {},
   "outputs": [],
   "source": [
    "#Question 1.1 - Reduce Function\n",
    "from inspect import isfunction\n",
    "def myreduce( a , b):        \n",
    "    temp= list()\n",
    "   \n",
    "    if(type(b) == list):\n",
    "        while(len(b)>=2):\n",
    "            x,y = b[0],b[1]\n",
    "            #print(x , y)\n",
    "            #print(\"myfunc : \" , myfunc(x,y))\n",
    "            b.remove(x)\n",
    "            b.remove(y)\n",
    "            b.insert(0, myfunc(x,y))\n",
    "            \n",
    "        return b\n",
    "    else:\n",
    "        print(\"Please provide List input for reduce function\")\n",
    "\n",
    "#sample function - can be updated    \n",
    "def myfunc(a,b):\n",
    "    return a+b\n",
    "\n",
    "c = [1,2,3,4,5,6,7]\n",
    "myreduce(myfunc,c)"
   ]
  },
  {
   "cell_type": "code",
   "execution_count": 73,
   "metadata": {},
   "outputs": [
    {
     "data": {
      "text/plain": [
       "[2, 4, 6]"
      ]
     },
     "execution_count": 73,
     "metadata": {},
     "output_type": "execute_result"
    }
   ],
   "source": [
    "#Question 1.2 - filter function\n",
    "def myfilter(b):\n",
    "    temp = list()\n",
    "    for i in range(0, len(b)):\n",
    "        if(myfunc(b[i]) == True):\n",
    "            temp.append(b[i])\n",
    "    return temp\n",
    "\n",
    "#sample function\n",
    "def myfunc(a):\n",
    "    if a%2 == 0:\n",
    "        return True\n",
    "\n",
    "    \n",
    "#sample function\n",
    "myfilter([1,2,3,4,5,6])"
   ]
  },
  {
   "cell_type": "code",
   "execution_count": 150,
   "metadata": {},
   "outputs": [
    {
     "name": "stdout",
     "output_type": "stream",
     "text": [
      "['x', 'xx', 'xxx', 'xxxx', 'y', 'yy', 'yyy', 'yyyy', 'z', 'zz', 'zzz', 'zzzz']\n",
      "['x', 'y', 'z', 'xx', 'yy', 'zz', 'xxx', 'yyy', 'zzz', 'xxxx', 'yyyy', 'zzzz']\n",
      "[[2], [3], [4], [3], [4], [5], [4], [5], [6]]\n",
      "[[2, 3, 4, 5], [3, 4, 5, 6], [4, 5, 6, 7], [5, 6, 7, 8]]\n",
      "[(1, 1), (2, 1), (3, 1), (1, 2), (2, 2), (3, 2), (1, 3), (2, 3), (3, 3)]\n"
     ]
    }
   ],
   "source": [
    "#Question 2 - List comprehension\n",
    "#2.1\n",
    "\n",
    "StartList = ['x','y','z']\n",
    "temp=list()\n",
    "for i in StartList:\n",
    "    for j in range(1,5):\n",
    "        temp.append(i*j)\n",
    "\n",
    "print(temp)\n",
    "\n",
    "#2.2\n",
    "StartList = ['x','y','z']\n",
    "temp=list()\n",
    "for i in range(1,5):\n",
    "    for j in StartList:\n",
    "        temp.append(j*i)\n",
    "print(temp)\n",
    "\n",
    "#2.3\n",
    "StartList = [2,3,4,5,6]\n",
    "temp = list()\n",
    "gap = 3\n",
    "while(len(StartList) >= gap ):\n",
    "    for i in range(0,3,1):\n",
    "        temp1 = list()\n",
    "        temp1.append(StartList[i])\n",
    "        temp.append(temp1)\n",
    "    StartList.remove(StartList[0])\n",
    "    \n",
    "else:\n",
    "    pass\n",
    "    #print(\"End of List\")\n",
    "print(temp)       \n",
    "\n",
    "\n",
    "#2.4\n",
    "StartList = [2,3,4,5,6,7,8]\n",
    "temp = list()\n",
    "gap = 4\n",
    "while(len(StartList) >= gap ):\n",
    "    temp1 = list()\n",
    "    for i in range(0,gap):\n",
    "        temp1.append(StartList[i])\n",
    "    temp.append(temp1)\n",
    "    StartList.remove(StartList[0])\n",
    "    \n",
    "else:\n",
    "    pass\n",
    "    #print(\"End of List\")\n",
    "print(temp) \n",
    "\n",
    "#2.5\n",
    "StartList = [1,2,3]\n",
    "temp = list()\n",
    "for i in StartList:\n",
    "    \n",
    "    for j in StartList:\n",
    "        temp1 = list()\n",
    "        temp1.append(j)\n",
    "        temp1.append(i)\n",
    "        temp.append(tuple(temp1))\n",
    "    \n",
    "print(temp)       "
   ]
  }
 ],
 "metadata": {
  "kernelspec": {
   "display_name": "Python 3",
   "language": "python",
   "name": "python3"
  },
  "language_info": {
   "codemirror_mode": {
    "name": "ipython",
    "version": 3
   },
   "file_extension": ".py",
   "mimetype": "text/x-python",
   "name": "python",
   "nbconvert_exporter": "python",
   "pygments_lexer": "ipython3",
   "version": "3.8.8"
  }
 },
 "nbformat": 4,
 "nbformat_minor": 2
}
