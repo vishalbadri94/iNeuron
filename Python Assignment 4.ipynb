{
 "cells": [
  {
   "cell_type": "code",
   "execution_count": 20,
   "id": "c8d9b75f",
   "metadata": {},
   "outputs": [
    {
     "name": "stdout",
     "output_type": "stream",
     "text": [
      "Enter the sides of the Triangle : a , b, c \n",
      "4\n",
      "5\n",
      "6\n",
      "Area is  49.21875\n"
     ]
    }
   ],
   "source": [
    "#Question 1.1\n",
    "class inputpolygon:\n",
    "\n",
    "    def __init__(self , a , b , c ):\n",
    "        self.a = float(a)\n",
    "        self.b = float(b)\n",
    "        self.c = float(c)\n",
    "\n",
    "class triangle(inputpolygon):\n",
    "\n",
    "    def __init__(self , *args):\n",
    "        super(triangle , self).__init__(*args)\n",
    "\n",
    "    def funcarea(self):\n",
    "        s = (self.a + self.b + self.c) / 2\n",
    "        return (s * (s - self.a) * (s - self.b) *(s - self.c) * 0.5)\n",
    "\n",
    "\n",
    "print(\"Enter the sides of the Triangle : a , b, c \") \n",
    "a = input() \n",
    "b = input() \n",
    "c = input()\n",
    "\n",
    "tri = triangle(a ,b, c) \n",
    "print(\"Area is \" , tri.funcarea())"
   ]
  },
  {
   "cell_type": "code",
   "execution_count": 22,
   "id": "58ea07b8",
   "metadata": {},
   "outputs": [
    {
     "data": {
      "text/plain": [
       "['aaaaaaa', 'fggfgf', 'grtrg']"
      ]
     },
     "execution_count": 22,
     "metadata": {},
     "output_type": "execute_result"
    }
   ],
   "source": [
    "#Question 1.2\n",
    "\n",
    "def filter_long_words(listwords , size):\n",
    "    temp = list()\n",
    "    for i in listwords:\n",
    "        if(len(i) > size):\n",
    "            temp.append(i)\n",
    "    return temp\n",
    "\n",
    "listwords = ['aaaaaaa','a' , 'b' , 'bb', 'fggfgf' , 'grtrg']\n",
    "size = 4\n",
    "filter_long_words(listwords , size)\n",
    "    "
   ]
  },
  {
   "cell_type": "code",
   "execution_count": 25,
   "id": "6bee40fc",
   "metadata": {},
   "outputs": [
    {
     "data": {
      "text/plain": [
       "[2, 3, 4]"
      ]
     },
     "execution_count": 25,
     "metadata": {},
     "output_type": "execute_result"
    }
   ],
   "source": [
    "#Question 2.1\n",
    "\n",
    "def wordtolen(inputlist):\n",
    "    temp = list()\n",
    "    for i in inputlist:\n",
    "        temp.append(len(i))\n",
    "    return temp\n",
    "\n",
    "inputlist = ['ab','cde','erty']\n",
    "wordtolen(inputlist)"
   ]
  },
  {
   "cell_type": "code",
   "execution_count": 33,
   "id": "9c40d4e5",
   "metadata": {},
   "outputs": [
    {
     "name": "stdout",
     "output_type": "stream",
     "text": [
      "input character  a being a vowel is  True\n"
     ]
    }
   ],
   "source": [
    "#Question 2.2\n",
    "\n",
    "def vowelindex(inputchar):\n",
    "    \n",
    "    vowellist = ['a' , 'e' , 'i' , 'o' , 'u']\n",
    "    if(inputchar.lower() in vowellist):\n",
    "        return True\n",
    "    else:\n",
    "        return False\n",
    "\n",
    "inputchar = 'a'\n",
    "if(len(inputchar) == 1):\n",
    "    print(\"input character \" , inputchar , \"being a vowel is \" , vowelindex(inputchar))\n",
    "else:\n",
    "    for i in inputchar:\n",
    "        print(\"input character \" , i , \"being a vowel is \" , vowelindex(i))\n"
   ]
  }
 ],
 "metadata": {
  "kernelspec": {
   "display_name": "Python 3",
   "language": "python",
   "name": "python3"
  },
  "language_info": {
   "codemirror_mode": {
    "name": "ipython",
    "version": 3
   },
   "file_extension": ".py",
   "mimetype": "text/x-python",
   "name": "python",
   "nbconvert_exporter": "python",
   "pygments_lexer": "ipython3",
   "version": "3.8.8"
  }
 },
 "nbformat": 4,
 "nbformat_minor": 5
}
